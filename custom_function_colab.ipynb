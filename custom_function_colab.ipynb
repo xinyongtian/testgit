{
  "nbformat": 4,
  "nbformat_minor": 0,
  "metadata": {
    "colab": {
      "name": "custom_function_colab.ipynb",
      "provenance": [],
      "collapsed_sections": [],
      "authorship_tag": "ABX9TyOShArVJ9NuZwQp/45syztV",
      "include_colab_link": true
    },
    "kernelspec": {
      "name": "python3",
      "display_name": "Python 3"
    },
    "language_info": {
      "name": "python"
    }
  },
  "cells": [
    {
      "cell_type": "markdown",
      "metadata": {
        "id": "view-in-github",
        "colab_type": "text"
      },
      "source": [
        "<a href=\"https://colab.research.google.com/github/xinyongtian/testgit/blob/master/custom_function_colab.ipynb\" target=\"_parent\"><img src=\"https://colab.research.google.com/assets/colab-badge.svg\" alt=\"Open In Colab\"/></a>"
      ]
    },
    {
      "cell_type": "code",
      "execution_count": null,
      "metadata": {
        "id": "p33M_i8UXHHN"
      },
      "outputs": [],
      "source": [
        "def desc_iter(x):\n",
        "  \"\"\"desc a iterable, show first element and len\n",
        "     for nested iterable , go to 2nd level, ie show first element of first element\n",
        "  \"\"\"\n",
        "  try:\n",
        "    e1=next(iter(x))\n",
        "  except TypeError:\n",
        "    print(f'The input is not iterable !')\n",
        "    return\n",
        "  try:\n",
        "    l1=len(x)\n",
        "  except TypeError:\n",
        "    l1='Unknown'\n",
        "  print(f'first element:\\t {str(e1)}\\nlength: {l1}')\n",
        "  try:\n",
        "    e1e1=next(iter(e1))\n",
        "  except TypeError:\n",
        "    return\n",
        "  try:\n",
        "    l2=len(e1)\n",
        "  except TypeError:\n",
        "    l2='Unknown'  \n",
        "  print(f'\\t\\tfirst element of first elment:\\t {str(e1e1)}\\n\\t\\tlength of first element : {l2}')"
      ]
    },
    {
      "cell_type": "code",
      "source": [
        "def make_windows_dataset_split(x, window_size=7, horizon=1,test_split=0.2, shuffle=False):\n",
        "  \"\"\"give a 1d vector, if test_split is none return one dataset else\n",
        "  return (train dataset, test dataset). each element of dataset is tuple of tensor (windows, horizon) \"\"\"\n",
        "  dataset = tf.data.Dataset.from_tensor_slices(x.astype('f4'))\n",
        "  dataset = dataset.window(WINDOW_SIZE+HORIZON, shift=1, drop_remainder=True)\n",
        "  train_len=int(len(dataset)*(1-test_split)) # have to do here : after flat_map len(dataset) is unknown\n",
        "  dataset = dataset.flat_map(lambda window: window.batch(WINDOW_SIZE+HORIZON))\n",
        "  dataset=dataset.map(lambda window: (window[:-1], window[-1:]))\n",
        "  if shuffle:\n",
        "    dataset = dataset.shuffle()\n",
        "  if test_split:\n",
        "    train=dataset.take(train_len)\n",
        "    test=dataset.skip(train_len)\n",
        "    return train,test\n",
        "  else:\n",
        "    return dataset"
      ],
      "metadata": {
        "id": "BVQBa0GwYcjj"
      },
      "execution_count": null,
      "outputs": []
    }
  ]
}